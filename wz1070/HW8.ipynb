{
 "cells": [
  {
   "cell_type": "code",
   "execution_count": 32,
   "metadata": {
    "collapsed": false
   },
   "outputs": [],
   "source": [
    "import numpy as np\n",
    "import matplotlib.pyplot as plt\n",
    "import unittest"
   ]
  },
  {
   "cell_type": "code",
   "execution_count": 33,
   "metadata": {
    "collapsed": true
   },
   "outputs": [],
   "source": [
    "class MyException(Exception):\n",
    "    def __str__(self):\n",
    "        return 'Invalid position in the input list, choose from 1, 10, 100, 1000'"
   ]
  },
  {
   "cell_type": "code",
   "execution_count": 34,
   "metadata": {
    "collapsed": true
   },
   "outputs": [],
   "source": [
    "def check_pos_list(position_list):\n",
    "    potential_pos = [1, 10, 100, 1000]\n",
    "    for item in position_list:\n",
    "        if not item in potential_pos:\n",
    "            raise MyException()\n",
    "            break\n",
    "            \n",
    "def get_positions():\n",
    "    positions_string = input('list of the number of shares to buy')\n",
    "    try:\n",
    "        positions = [int(x, 10) for x in positions_string[1: len(positions_string) - 1].split(', ')]\n",
    "    except ValueError:\n",
    "        print('Input list of the number of shares to buy should be the form: [1, 10, 100, 1000]')\n",
    "    check_pos_list(positions)\n",
    "    return positions\n",
    "\n",
    "def get_num_trials():\n",
    "    num_trials_string = input('number of times to randomly repeat the test')\n",
    "    try:\n",
    "        num_trials = int(num_trials_string)\n",
    "    except ValueError:\n",
    "        print('number of times to randomly repeat the test should be a integer')\n",
    "    return num_trials"
   ]
  },
  {
   "cell_type": "code",
   "execution_count": 35,
   "metadata": {
    "collapsed": false
   },
   "outputs": [
    {
     "name": "stdout",
     "output_type": "stream",
     "text": [
      "list of the number of shares to buy[1, 10, 100, 1000]\n",
      "number of times to randomly repeat the test10000\n"
     ]
    }
   ],
   "source": [
    "positions = get_positions()\n",
    "num_trials = get_num_trials()\n",
    "means = np.zeros(len(positions))\n",
    "sd = np.zeros(len(positions))\n",
    "for i in range(len(positions)):\n",
    "    position_value = 1000 / positions[i]\n",
    "    cumu_ret = np.zeros(num_trials)\n",
    "    for j in range(num_trials):\n",
    "        draw = np.random.randint(1, 101)\n",
    "        if draw <= 49:\n",
    "            cumu_ret[j] = 0\n",
    "        else:\n",
    "            cumu_ret[j] = 2 * position_value\n",
    "    daily_ret = cumu_ret / 1000 - 1\n",
    "    means[i] = np.mean(daily_ret)\n",
    "    sd[i] = np.std(daily_ret)\n",
    "    np.savetxt('results.txt', (means, sd), header = 'Means and Standard Devaition of daily_ret of position' + positions_string)\n",
    "    plt.hist(daily_ret, 100, range=[-1, 1])\n",
    "    plt.savefig('histogram_%04d_pos.pdf' % pos)"
   ]
  },
  {
   "cell_type": "code",
   "execution_count": null,
   "metadata": {
    "collapsed": true
   },
   "outputs": [],
   "source": [
    "class ExceptionTest(unittest.TestCase):\n",
    "    \n",
    "    def test_3_positions(self):\n",
    "        self.assertEqual(get_positions('[1, 10, 100]'), [1, 10, 100])\n",
    "    \n",
    "    def test_3_positions_reverse(self):\n",
    "        self.assertEqual(get_positions('[100, 10, 1]'), [100, 10, 1])\n",
    "        \n",
    "if __name__ == '__main__':\n",
    "    unittest.main()"
   ]
  }
 ],
 "metadata": {
  "anaconda-cloud": {},
  "kernelspec": {
   "display_name": "Python [Root]",
   "language": "python",
   "name": "Python [Root]"
  },
  "language_info": {
   "codemirror_mode": {
    "name": "ipython",
    "version": 3
   },
   "file_extension": ".py",
   "mimetype": "text/x-python",
   "name": "python",
   "nbconvert_exporter": "python",
   "pygments_lexer": "ipython3",
   "version": "3.5.2"
  }
 },
 "nbformat": 4,
 "nbformat_minor": 0
}
