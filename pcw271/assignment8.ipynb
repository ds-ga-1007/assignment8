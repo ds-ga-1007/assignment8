{
 "cells": [
  {
   "cell_type": "code",
   "execution_count": null,
   "metadata": {
    "collapsed": false
   },
   "outputs": [],
   "source": [
    "import numpy as np\n",
    "import operator\n",
    "import collections\n",
    "import matplotlib.pyplot as plt\n",
    "\n",
    "N=1000\n",
    "position = np.array([1, 10, 100, 1000], dtype=np.int)\n",
    "num_trials=10000\n",
    "\n",
    "def cumu_ret(position, N, num_trials):\n",
    "    try:\n",
    "        \n",
    "        new_list = list()\n",
    "       \n",
    "        for t in range(num_trials):\n",
    "            \n",
    "            for k in range(0,len(position)):\n",
    "        \n",
    "                arr = np.zeros((1,int(N/position[k])))\n",
    "        \n",
    "                for j in range(arr.shape[1]):\n",
    "            \n",
    "                    arr[0][j] = (1+np.random.choice([1,-1],p=[0.51,0.49]))*(position [k])\n",
    "                \n",
    "                    b = sum(arr[0])\n",
    "                \n",
    "                new_list.append(b)\n",
    "            \n",
    "        return new_list\n",
    "    \n",
    "        \n",
    "    except ValueError:\n",
    "        print('Please input the integer')\n",
    "    except (EOFError, KeyboardInterrupt):\n",
    "        print('User Interrupt.')\n",
    "    except:\n",
    "        print('Unknown error.')\n",
    "        \n",
    "a = cumu_ret(position, N, num_trials)\n",
    "\n",
    "def daily_ret(cumu_ret):\n",
    "    \n",
    "    new_list = list()\n",
    "    for i in cumu_ret:\n",
    "        for_hist = (i/1000) - 1\n",
    "        new_list.append(for_hist)\n",
    "    return [tuple(new_list[i:i+len(position)]) for i in range(0, len(new_list), len(position))]\n",
    " \n",
    "b = daily_ret(a)\n",
    "\n",
    "def make_hist_list(position, b, num_trials):\n",
    "    for_hist = list()\n",
    "    num = 0\n",
    "    for i in range(len(position)):\n",
    "        for i in range(len(b)):\n",
    "            \n",
    "            for_hist.append(b[i][num])\n",
    "        num = num + 1\n",
    "       \n",
    "    return [tuple(for_hist[i:i+num_trials]) for i in range(0, len(for_hist), num_trials)]\n",
    "    \n",
    "    \n",
    "c = make_hist_list(position, b, num_trials)\n",
    "\n",
    "c_array1 = np.array(c[0])\n",
    "hist_1 = plt.hist(c_array1,100,range=[-1,1])\n",
    "plt.title(\"histogram_0001_pos\")\n",
    "plt.savefig('/Users/KateWu/desktop/histogram_0001_pos.pdf')\n",
    "plt.close()\n",
    "\n",
    "c_array2 = np.array(c[1])\n",
    "hist_2 = plt.hist(c_array2,100,range=[-1,1])\n",
    "plt.title(\"histogram_0010_pos\")\n",
    "plt.savefig('/Users/KateWu/desktop/histogram_0010_pos.pdf')\n",
    "plt.close()\n",
    "\n",
    "c_array3 = np.array(c[2])\n",
    "hist_3 = plt.hist(c_array3,100,range=[-1,1])\n",
    "plt.title(\"histogram_0100_pos\")\n",
    "plt.savefig('/Users/KateWu/desktop/histogram_0100_pos.pdf')\n",
    "plt.close()\n",
    "\n",
    "c_array4 = np.array(c[3])\n",
    "hist_4 = plt.hist(c_array4,100,range=[-1,1])\n",
    "plt.title(\"histogram_1000_pos\")\n",
    "plt.savefig('/Users/KateWu/desktop/histogram_1000_pos.pdf')\n",
    "plt.close()\n",
    "\n",
    "f = open('/Users/KateWu/desktop/results.txt', 'w')\n",
    "p1_mean = np.mean(c[0])\n",
    "p1_sd = np.std(c[0])\n",
    "p10_mean = np.mean(c[1])\n",
    "p10_sd = np.std(c[1])\n",
    "p100_mean = np.mean(c[2])\n",
    "p100_sd = np.std(c[2])\n",
    "p1000_mean = np.mean(c[3])\n",
    "p1000_sd = np.std(c[3])\n",
    "s = 'The mean value of position 1 is '+str(p1_mean)+' and the SD value is '+str(p1_sd)+'\\n'+'The mean value of position 10 is '+str(p10_mean)+' and the SD value is '+str(p10_sd)+'\\n'+'The mean value of position 100 is '+str(p100_mean)+' and the SD value is '+str(p100_sd)+'\\n'+'The mean value of position 1000 is '+str(p1000_mean)+' and the SD value is '+str(p1000_sd)+'\\n'\n",
    "f.write(s)\n",
    "f.close()\n"
   ]
  },
  {
   "cell_type": "code",
   "execution_count": null,
   "metadata": {
    "collapsed": false
   },
   "outputs": [],
   "source": [
    "import unittest\n",
    "\n",
    "class UnitTest_1_test(unittest.TestCase):\n",
    "    # AssertTrue\n",
    "    def test_functions(self):\n",
    "        self.assertTrue(cumu_ret(position, N, num_trials),\"AssertTrue with cumu_ret funtion.\")\n",
    "        self.assertTrue(daily_ret(a),\"AssertTrue with daily_ret funtion.\")\n",
    "        self.assertTrue(make_hist_list(position, b, num_trials),\"AssertTrue with make_hist_list funtion.\")\n",
    "        \n",
    "    # test the input array is the number we interested\n",
    "    def test_input(self):\n",
    "        self.assertIs(position,[1, 10, 100, 1000]) \n",
    "        \n",
    "if __name__ == '__main__':\n",
    "    unittest.main(argv=['first-arg-is-ignored'], exit=False)"
   ]
  },
  {
   "cell_type": "code",
   "execution_count": null,
   "metadata": {
    "collapsed": false
   },
   "outputs": [],
   "source": []
  },
  {
   "cell_type": "code",
   "execution_count": null,
   "metadata": {
    "collapsed": false
   },
   "outputs": [],
   "source": []
  },
  {
   "cell_type": "code",
   "execution_count": null,
   "metadata": {
    "collapsed": false
   },
   "outputs": [],
   "source": []
  },
  {
   "cell_type": "code",
   "execution_count": null,
   "metadata": {
    "collapsed": false
   },
   "outputs": [],
   "source": []
  },
  {
   "cell_type": "code",
   "execution_count": null,
   "metadata": {
    "collapsed": false
   },
   "outputs": [],
   "source": []
  },
  {
   "cell_type": "code",
   "execution_count": null,
   "metadata": {
    "collapsed": false
   },
   "outputs": [],
   "source": []
  },
  {
   "cell_type": "code",
   "execution_count": null,
   "metadata": {
    "collapsed": true
   },
   "outputs": [],
   "source": []
  },
  {
   "cell_type": "code",
   "execution_count": null,
   "metadata": {
    "collapsed": true
   },
   "outputs": [],
   "source": []
  }
 ],
 "metadata": {
  "anaconda-cloud": {},
  "kernelspec": {
   "display_name": "Python [Root]",
   "language": "python",
   "name": "Python [Root]"
  },
  "language_info": {
   "codemirror_mode": {
    "name": "ipython",
    "version": 3
   },
   "file_extension": ".py",
   "mimetype": "text/x-python",
   "name": "python",
   "nbconvert_exporter": "python",
   "pygments_lexer": "ipython3",
   "version": "3.5.2"
  }
 },
 "nbformat": 4,
 "nbformat_minor": 0
}
